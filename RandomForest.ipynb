{
 "cells": [
  {
   "cell_type": "markdown",
   "metadata": {},
   "source": [
    "The following cells of code are part of a Random Forest model that is completed on edX data from Kaggle."
   ]
  },
  {
   "cell_type": "code",
   "execution_count": 2,
   "metadata": {},
   "outputs": [],
   "source": [
    "import numpy as np\n",
    "import pandas as pd\n",
    "from sklearn.model_selection import train_test_split\n",
    "from sklearn.ensemble import RandomForestClassifier\n",
    "from sklearn.metrics import accuracy_score\n",
    "from sklearn.tree import DecisionTreeClassifier\n",
    "from sklearn.metrics import mean_squared_error"
   ]
  },
  {
   "cell_type": "code",
   "execution_count": 3,
   "metadata": {},
   "outputs": [],
   "source": [
    "# Imports train/test data. Converts grade to a numeric value.\n",
    "train_data = pd.read_csv('data/edx_train.csv')\n",
    "test_data = pd.read_csv('data/edx_test.csv')\n",
    "train_data['grade'] = pd.to_numeric(train_data.grade, errors = 'coerce')\n",
    "test_data['grade'] = pd.to_numeric(test_data.grade, errors = 'coerce')"
   ]
  },
  {
   "cell_type": "code",
   "execution_count": 4,
   "metadata": {},
   "outputs": [
    {
     "name": "stderr",
     "output_type": "stream",
     "text": [
      "C:\\Users\\Connor\\anaconda3\\lib\\site-packages\\pandas\\core\\frame.py:2963: SettingWithCopyWarning: \n",
      "A value is trying to be set on a copy of a slice from a DataFrame.\n",
      "Try using .loc[row_indexer,col_indexer] = value instead\n",
      "\n",
      "See the caveats in the documentation: https://pandas.pydata.org/pandas-docs/stable/user_guide/indexing.html#returning-a-view-versus-a-copy\n",
      "  self[k1] = value[k2]\n"
     ]
    }
   ],
   "source": [
    "# In this model, we use a greater number of features, improving the amount of data we can use, by assigning non-numeric\n",
    "# colums to dummy Pandas values.\n",
    "features = ['registered',\n",
    "            'viewed',\n",
    "            'explored',\n",
    "            'final_cc_cname_DI',\n",
    "            'LoE_DI',\n",
    "            'YoB',\n",
    "            'grade',\n",
    "            'nevents',\n",
    "            'ndays_act',\n",
    "            'nplay_video',\n",
    "            'nchapters',\n",
    "            'nforum_posts'\n",
    "            ]\n",
    "target = 'certified'\n",
    "\n",
    "train_dummy = pd.get_dummies(train_data[features + [target]])\n",
    "test_dummy = pd.get_dummies(test_data)\n",
    "\n",
    "# Splits data into train/val sets, at a test size of 0.1\n",
    "train_rf, val_rf = train_test_split(train_dummy, test_size = 0.1)\n",
    "\n",
    "# Updates features list with new dummy variable column names.\n",
    "features = list(train_rf.columns)\n",
    "features.remove(target)\n",
    "\n",
    "#  Updates train/validation sets with updated features, accounts for NA values\n",
    "train_rf[features] = train_rf[features].fillna(0)\n",
    "val_rf[features] = val_rf[features].fillna(0)"
   ]
  },
  {
   "cell_type": "code",
   "execution_count": 5,
   "metadata": {},
   "outputs": [
    {
     "name": "stdout",
     "output_type": "stream",
     "text": [
      "Accuracy Score: 0.9726027397260274\n"
     ]
    }
   ],
   "source": [
    "# Creating Random Forest model and fitting it with data\n",
    "model = RandomForestClassifier(max_depth = 2)\n",
    "model = model.fit(train_rf[features], train_rf[target])\n",
    "\n",
    "# Predicts outcome values based on model and calculates an accuracy score for the model\n",
    "pred_y = model.predict(val_rf[features])\n",
    "acc_score = accuracy_score(val_rf[target], pred_y)\n",
    "print(\"Accuracy Score: \" + str(acc_score))"
   ]
  },
  {
   "cell_type": "markdown",
   "metadata": {},
   "source": [
    "As demonstrated by the accuracy score of this model versus the last, we see an improvement in the prediction ability of the model. However, we may be able to improve this model!"
   ]
  },
  {
   "cell_type": "markdown",
   "metadata": {},
   "source": [
    "The following is an updated version of the Random Forest Model, created with a more controlled set of features, as well as tested with different max_depth values for the model."
   ]
  },
  {
   "cell_type": "code",
   "execution_count": 17,
   "metadata": {},
   "outputs": [
    {
     "name": "stderr",
     "output_type": "stream",
     "text": [
      "C:\\Users\\Connor\\anaconda3\\lib\\site-packages\\pandas\\core\\frame.py:2963: SettingWithCopyWarning: \n",
      "A value is trying to be set on a copy of a slice from a DataFrame.\n",
      "Try using .loc[row_indexer,col_indexer] = value instead\n",
      "\n",
      "See the caveats in the documentation: https://pandas.pydata.org/pandas-docs/stable/user_guide/indexing.html#returning-a-view-versus-a-copy\n",
      "  self[k1] = value[k2]\n"
     ]
    }
   ],
   "source": [
    "features_update = ['registered',\n",
    "            'viewed',\n",
    "            'explored',\n",
    "            'LoE_DI',\n",
    "            'YoB',\n",
    "            'grade',\n",
    "            'nevents',\n",
    "            'ndays_act',\n",
    "            'nplay_video',\n",
    "            'nchapters',\n",
    "            'nforum_posts'\n",
    "            ]\n",
    "target = 'certified'\n",
    "\n",
    "# Create dummies for non-numeric features \n",
    "train_dummy = pd.get_dummies(train_data[features_update + [target]])\n",
    "test_dummy = pd.get_dummies(test_data)\n",
    "\n",
    "# Train/val split\n",
    "train_rf, val_rf = train_test_split(train_dummy, test_size = 0.2)\n",
    "\n",
    "# Collect dummy column names\n",
    "features_update = list(train_rf.columns)\n",
    "features_update.remove(target)\n",
    "\n",
    "# Updates train/val with dummies and accounts for NA values\n",
    "train_rf[features_update] = train_rf[features_update].fillna(0)\n",
    "val_rf[features_update] = val_rf[features_update].fillna(0)\n",
    "\n",
    "\n"
   ]
  },
  {
   "cell_type": "markdown",
   "metadata": {},
   "source": [
    "The cell below iterates through a range of values for max depth in order to find the one which produces the higheest accuracy score. "
   ]
  },
  {
   "cell_type": "code",
   "execution_count": 23,
   "metadata": {},
   "outputs": [
    {
     "data": {
      "text/html": [
       "<div>\n",
       "<style scoped>\n",
       "    .dataframe tbody tr th:only-of-type {\n",
       "        vertical-align: middle;\n",
       "    }\n",
       "\n",
       "    .dataframe tbody tr th {\n",
       "        vertical-align: top;\n",
       "    }\n",
       "\n",
       "    .dataframe thead th {\n",
       "        text-align: right;\n",
       "    }\n",
       "</style>\n",
       "<table border=\"1\" class=\"dataframe\">\n",
       "  <thead>\n",
       "    <tr style=\"text-align: right;\">\n",
       "      <th></th>\n",
       "      <th>max_depth</th>\n",
       "      <th>validation accuracy score</th>\n",
       "    </tr>\n",
       "  </thead>\n",
       "  <tbody>\n",
       "    <tr>\n",
       "      <th>0</th>\n",
       "      <td>1</td>\n",
       "      <td>0.977740</td>\n",
       "    </tr>\n",
       "    <tr>\n",
       "      <th>1</th>\n",
       "      <td>2</td>\n",
       "      <td>0.981164</td>\n",
       "    </tr>\n",
       "    <tr>\n",
       "      <th>2</th>\n",
       "      <td>3</td>\n",
       "      <td>0.997146</td>\n",
       "    </tr>\n",
       "    <tr>\n",
       "      <th>3</th>\n",
       "      <td>4</td>\n",
       "      <td>0.997146</td>\n",
       "    </tr>\n",
       "    <tr>\n",
       "      <th>4</th>\n",
       "      <td>5</td>\n",
       "      <td>0.997146</td>\n",
       "    </tr>\n",
       "  </tbody>\n",
       "</table>\n",
       "</div>"
      ],
      "text/plain": [
       "   max_depth  validation accuracy score\n",
       "0          1                   0.977740\n",
       "1          2                   0.981164\n",
       "2          3                   0.997146\n",
       "3          4                   0.997146\n",
       "4          5                   0.997146"
      ]
     },
     "execution_count": 23,
     "metadata": {},
     "output_type": "execute_result"
    }
   ],
   "source": [
    "# Establishes variables for loop\n",
    "acc = []\n",
    "depth = list(range(1,6))\n",
    "count = 1\n",
    "\n",
    "# Loop iterates through depths. It creates a model, predicts values, and calculates an accuracy score for i in depths. \n",
    "for i in depth:\n",
    "    model = RandomForestClassifier(max_depth = i)\n",
    "    model = model.fit(train_rf[features_update], train_rf[target])\n",
    "    y_pred = model.predict(val_rf[features_update])\n",
    "    acc_score = accuracy_score(y_pred, val_rf[target])\n",
    "    acc.append((count, acc_score))\n",
    "    count = count + 1\n",
    "\n",
    "# Converts the list of data to a Pandas dataframe and gives it column nanes to make the data more interpretable.\n",
    "acc_table = pd.DataFrame(acc)\n",
    "acc_table.columns = ['max_depth', 'validation accuracy score']\n",
    "acc_table"
   ]
  },
  {
   "cell_type": "code",
   "execution_count": null,
   "metadata": {},
   "outputs": [],
   "source": []
  }
 ],
 "metadata": {
  "kernelspec": {
   "display_name": "Python 3",
   "language": "python",
   "name": "python3"
  },
  "language_info": {
   "codemirror_mode": {
    "name": "ipython",
    "version": 3
   },
   "file_extension": ".py",
   "mimetype": "text/x-python",
   "name": "python",
   "nbconvert_exporter": "python",
   "pygments_lexer": "ipython3",
   "version": "3.8.3"
  }
 },
 "nbformat": 4,
 "nbformat_minor": 4
}
