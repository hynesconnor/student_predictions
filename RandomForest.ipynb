{
 "cells": [
  {
   "cell_type": "markdown",
   "metadata": {},
   "source": [
    "The following cells of code are part of a Random Forest model that is completed on edX data from Kaggle."
   ]
  },
  {
   "cell_type": "code",
   "execution_count": 1,
   "metadata": {},
   "outputs": [],
   "source": [
    "import numpy as np\n",
    "import pandas as pd\n",
    "from sklearn.model_selection import train_test_split\n",
    "from sklearn.ensemble import RandomForestClassifier\n",
    "from sklearn.metrics import accuracy_score\n",
    "from sklearn.tree import DecisionTreeClassifier\n",
    "from sklearn.metrics import mean_squared_error"
   ]
  },
  {
   "cell_type": "code",
   "execution_count": 2,
   "metadata": {},
   "outputs": [],
   "source": [
    "# Imports train/test data. Converts grade to a numeric value.\n",
    "train_data = pd.read_csv('data/edx_train.csv')\n",
    "test_data = pd.read_csv('data/edx_test.csv')\n",
    "train_data['grade'] = pd.to_numeric(train_data.grade, errors = 'coerce')\n",
    "test_data['grade'] = pd.to_numeric(test_data.grade, errors = 'coerce')"
   ]
  },
  {
   "cell_type": "code",
   "execution_count": 12,
   "metadata": {},
   "outputs": [],
   "source": [
    "# In this model, we use a greater number of features, improving the amount of data we can use, by assigning non-numeric\n",
    "# colums to dummy Pandas values.\n",
    "features = ['registered',\n",
    "            'viewed',\n",
    "            'explored',\n",
    "            'final_cc_cname_DI',\n",
    "            'LoE_DI',\n",
    "            'YoB',\n",
    "            'grade',\n",
    "            'nevents',\n",
    "            'ndays_act',\n",
    "            'nplay_video',\n",
    "            'nchapters',\n",
    "            'nforum_posts'\n",
    "            ]\n",
    "target = 'certified'\n",
    "\n",
    "train_dummy = pd.get_dummies(train_data[features + [target]])\n",
    "test_dummy = pd.get_dummies(test_data)\n",
    "\n",
    "# Splits data into train/val sets, at a test size of 0.1\n",
    "train_rf, val_rf = train_test_split(train_dummy, test_size = 0.1)\n",
    "\n",
    "# Updates features list with new dummy variable column names.\n",
    "features = list(train_rf.columns)\n",
    "features.remove('certified')\n",
    "\n",
    "#  Updates train/validation sets with updated features, accounts for NA values\n",
    "train_rf[features] = train_rf[features].fillna(0)\n",
    "val_rf[features] = val_rf[features].fillna(0)"
   ]
  },
  {
   "cell_type": "code",
   "execution_count": 16,
   "metadata": {},
   "outputs": [
    {
     "name": "stdout",
     "output_type": "stream",
     "text": [
      "Accuracy Score: 0.9885844748858448\n"
     ]
    }
   ],
   "source": [
    "# Creating Random Forest model and fitting it with data\n",
    "model = RandomForestClassifier(max_depth = 2)\n",
    "model = model.fit(train_rf[features], train_rf[target])\n",
    "\n",
    "# Predicts outcome values based on model and calculates an accuracy score for the model\n",
    "pred_y = model.predict(val_rf[features])\n",
    "acc_score = accuracy_score(val_rf[target], pred_y)\n",
    "print(\"Accuracy Score: \" + str(acc_score))"
   ]
  },
  {
   "cell_type": "markdown",
   "metadata": {},
   "source": [
    "As demonstrated by the accuracy score of this model versus the last, we see an improvement in the prediction ability of the model. However, we may be able to improve this model!"
   ]
  },
  {
   "cell_type": "markdown",
   "metadata": {},
   "source": [
    "The following is an updated version of the Random Forest Model, created with a more controlled set of features, as well as tested with different max_depth values for the model."
   ]
  },
  {
   "cell_type": "code",
   "execution_count": null,
   "metadata": {},
   "outputs": [],
   "source": [
    "features = "
   ]
  }
 ],
 "metadata": {
  "kernelspec": {
   "display_name": "Python 3",
   "language": "python",
   "name": "python3"
  },
  "language_info": {
   "codemirror_mode": {
    "name": "ipython",
    "version": 3
   },
   "file_extension": ".py",
   "mimetype": "text/x-python",
   "name": "python",
   "nbconvert_exporter": "python",
   "pygments_lexer": "ipython3",
   "version": "3.8.3"
  }
 },
 "nbformat": 4,
 "nbformat_minor": 4
}
