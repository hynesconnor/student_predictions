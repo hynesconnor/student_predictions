{
 "cells": [
  {
   "cell_type": "markdown",
   "metadata": {},
   "source": [
    "The following cells of code are part of a linear regression that is completed on edX data from Kaggle."
   ]
  },
  {
   "cell_type": "code",
   "execution_count": 31,
   "metadata": {},
   "outputs": [],
   "source": [
    "import numpy as np\n",
    "import pandas as pd\n",
    "from sklearn.model_selection import train_test_split\n",
    "from sklearn.linear_model import LinearRegression\n",
    "from sklearn.metrics import mean_squared_error"
   ]
  },
  {
   "cell_type": "code",
   "execution_count": 7,
   "metadata": {},
   "outputs": [],
   "source": [
    "# Imports datasets as train and test data, converts grade data to numberic\n",
    "train_data = pd.read_csv('data/edx_train.csv')\n",
    "test_data = pd.read_csv('data/edx_test.csv')\n",
    "train_data['grade'] = pd.to_numeric(train_data.grade, errors = 'coerce')\n",
    "test_data['grade'] = pd.to_numeric(test_data.grade, errors = 'coerce')"
   ]
  },
  {
   "cell_type": "markdown",
   "metadata": {},
   "source": [
    "The model below is a simple regression using SKLearn. It utalizes the numerical features from the dataset to train."
   ]
  },
  {
   "cell_type": "code",
   "execution_count": 29,
   "metadata": {},
   "outputs": [],
   "source": [
    "# Establishes features to be used\n",
    "features_num = ['viewed',\n",
    "            'explored',\n",
    "            'grade',\n",
    "            'nevents',\n",
    "            'ndays_act',\n",
    "            'nplay_video',\n",
    "            'nchapters',\n",
    "            'nforum_posts'\n",
    "            ]\n",
    "target = 'certified'\n",
    "\n",
    "# Fills NA with 0 and creates train/validation split\n",
    "train_data[features_num] = train_data[features_num].fillna(0)\n",
    "train_data_num, validation_data_num = train_test_split(train_data[features_num + [target]], test_size = 0.2)"
   ]
  },
  {
   "cell_type": "code",
   "execution_count": 33,
   "metadata": {},
   "outputs": [
    {
     "name": "stdout",
     "output_type": "stream",
     "text": [
      "Train RMSE: 0.09310332932429864\n",
      "Validation RMSE: 0.08614132944293035\n",
      "Validation Accuracy: 0.9138586705570697\n"
     ]
    }
   ],
   "source": [
    "# Creates linear regression and fits it with training data\n",
    "reg = LinearRegression()\n",
    "reg = reg.fit(train_data_num[features_num], train_data_num[target])\n",
    "\n",
    "# Predicts outcome values for train and validation data\n",
    "reg_train_pred = reg.predict(train_data_num[features_num])\n",
    "reg_val_pred = reg.predict(validation_data_num[features_num])\n",
    "\n",
    "# Calculates train/validation RMSE and validation accuracy\n",
    "train_rmse = mean_squared_error(train_data_num[target], reg_train_pred, squared = False)\n",
    "val_rmse = mean_squared_error(validation_data_num[target], reg_val_pred, squared = False)\n",
    "acc_score = 1 - val_rmse\n",
    "\n",
    "# Print RMSE/Acc\n",
    "print(\"Train RMSE: \" + str(train_rmse))\n",
    "print(\"Validation RMSE: \" + str(val_rmse))\n",
    "print(\"Validation Accuracy: \" + str(acc_score))"
   ]
  },
  {
   "cell_type": "markdown",
   "metadata": {},
   "source": [
    "This model is just okay, scoring in the high 80s and low 90s for RMSE, but we can do better, continuing on with the Random Forest model."
   ]
  }
 ],
 "metadata": {
  "kernelspec": {
   "display_name": "Python 3",
   "language": "python",
   "name": "python3"
  },
  "language_info": {
   "codemirror_mode": {
    "name": "ipython",
    "version": 3
   },
   "file_extension": ".py",
   "mimetype": "text/x-python",
   "name": "python",
   "nbconvert_exporter": "python",
   "pygments_lexer": "ipython3",
   "version": "3.8.3"
  }
 },
 "nbformat": 4,
 "nbformat_minor": 4
}
